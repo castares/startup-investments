{
 "cells": [
  {
   "cell_type": "code",
   "execution_count": 1,
   "metadata": {},
   "outputs": [],
   "source": [
    "import pandas as pd"
   ]
  },
  {
   "cell_type": "code",
   "execution_count": 13,
   "metadata": {},
   "outputs": [],
   "source": [
    "data = pd.read_csv('investments_VC.csv', encoding='ISO-8859-1')"
   ]
  },
  {
   "cell_type": "code",
   "execution_count": 16,
   "metadata": {},
   "outputs": [
    {
     "data": {
      "text/plain": [
       "(54294, 39)"
      ]
     },
     "execution_count": 16,
     "metadata": {},
     "output_type": "execute_result"
    }
   ],
   "source": [
    "data.shape"
   ]
  },
  {
   "cell_type": "code",
   "execution_count": 57,
   "metadata": {},
   "outputs": [
    {
     "name": "stdout",
     "output_type": "stream",
     "text": [
      "file created from with rows 0 to 10000\n",
      "start => 10000, stop => 20000\n",
      "file created from with rows 10000 to 20000\n",
      "start => 20000, stop => 30000\n",
      "file created from with rows 20000 to 30000\n",
      "start => 30000, stop => 40000\n",
      "file created from with rows 30000 to 40000\n",
      "start => 40000, stop => 50000\n",
      "file created from with rows 40000 to 50000\n",
      "start => 50000, stop => 60000\n",
      "file created from with rows 50000 to 60000\n",
      "start => 60000, stop => 70000\n"
     ]
    }
   ],
   "source": [
    "start, stop = 0, 10000\n",
    "for e in range(data.shape[0]//9000):\n",
    "    data.loc[start:stop].to_csv(f'./input/investments_VC_{e}.csv')\n",
    "    print(f'file created from with rows {start} to {stop}')\n",
    "    start, stop = stop, stop+10000\n",
    "    print(f'start => {start}, stop => {stop}')"
   ]
  }
 ],
 "metadata": {
  "kernelspec": {
   "display_name": "Python 3",
   "language": "python",
   "name": "python3"
  },
  "language_info": {
   "codemirror_mode": {
    "name": "ipython",
    "version": 3
   },
   "file_extension": ".py",
   "mimetype": "text/x-python",
   "name": "python",
   "nbconvert_exporter": "python",
   "pygments_lexer": "ipython3",
   "version": "3.7.5"
  }
 },
 "nbformat": 4,
 "nbformat_minor": 4
}
